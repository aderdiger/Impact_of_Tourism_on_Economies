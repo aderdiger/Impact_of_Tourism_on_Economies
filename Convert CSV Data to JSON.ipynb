{
 "cells": [
  {
   "cell_type": "code",
   "execution_count": 3,
   "metadata": {},
   "outputs": [],
   "source": [
    "import csv\n",
    "import json\n",
    "\n",
    "# Function to convert CSV to JSON with specified data types\n",
    "def csv_to_json(csv_file, json_file):\n",
    "    with open(csv_file, 'r') as file:\n",
    "        # Read CSV file\n",
    "        csv_data = csv.DictReader(file)\n",
    "        \n",
    "        # Convert CSV data to JSON with specified data types\n",
    "        json_data = []\n",
    "        for row in csv_data:\n",
    "            # Convert data types as needed\n",
    "            converted_row = {\n",
    "                \n",
    "                \"Total\": float(row['Total']),\n",
    "                \"GDP\": int(row['GDP']),\n",
    "                \"Indicator\": row['Indicator'],\n",
    "                \"SeriesID\": row['SeriesID'],\n",
    "                \"SeriesDescription\": row['SeriesDescription'],\n",
    "                \"GeoAreaCode\": row['GeoAreaCode'],\n",
    "                \"GeoAreaName\": row['GeoAreaName'],\n",
    "                \"CountryCode\": row['CountryCode'],\n",
    "                \"TimePeriod\": row['TimePeriod'],\n",
    "                \"Time_Detail\": row['Time_Detail'],\n",
    "                \"Source\": row['Source'],\n",
    "                \"FootNote\": row['FootNote'],\n",
    "                \"Nature\": row['Nature'],\n",
    "                \"Units\": row['Units'],\n",
    "                \"ReportingType\": row['ReportingType'],\n",
    "                \"SeriesCode\": row['SeriesCode'],\n",
    "                \"CountryName\": row['CountryName'],\n",
    "                \"IndicatorName\": row['IndicatorName'],\n",
    "                \"IndicatorCode\": row['IndicatorCode'],\n",
    "                \"Year\": row['Year']\n",
    "            \n",
    "                    }\n",
    "            json_data.append(converted_row)\n",
    "    \n",
    "    # Write JSON data to JavaScript file\n",
    "    with open(json_file, 'w') as file:\n",
    "        file.write('const jsonData = ')\n",
    "        json.dump(json_data, file, indent=4)\n",
    "        file.write(';')\n",
    "\n",
    "# Paths to CSV and JavaScript files\n",
    "csv_file_path = 'Cleaned Data/Merged GDP and Tourism data.csv'\n",
    "js_file_path = 'data.js'\n",
    "\n",
    "# Convert CSV to JSON and save as JavaScript file\n",
    "csv_to_json(csv_file_path, js_file_path)\n"
   ]
  }
 ],
 "metadata": {
  "kernelspec": {
   "display_name": "dev",
   "language": "python",
   "name": "python3"
  },
  "language_info": {
   "codemirror_mode": {
    "name": "ipython",
    "version": 3
   },
   "file_extension": ".py",
   "mimetype": "text/x-python",
   "name": "python",
   "nbconvert_exporter": "python",
   "pygments_lexer": "ipython3",
   "version": "0.0.0"
  }
 },
 "nbformat": 4,
 "nbformat_minor": 2
}
