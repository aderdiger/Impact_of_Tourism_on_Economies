{
 "cells": [
  {
   "cell_type": "code",
   "execution_count": 1,
   "metadata": {},
   "outputs": [],
   "source": [
    "# import dependencies\n",
    "import pandas as pd"
   ]
  },
  {
   "cell_type": "code",
   "execution_count": 2,
   "metadata": {},
   "outputs": [],
   "source": [
    "# import files \n",
    "gdp_df = pd.read_csv(\"Data Sources/GDP by Country by Year (The World Bank).csv\")\n",
    "\n",
    "tourism_gdp = pd.read_excel(\"Data Sources/Tourism GDP as a Percent of Total GDP by Country by Year (UNWTO).xlsx\")"
   ]
  },
  {
   "cell_type": "code",
   "execution_count": 18,
   "metadata": {},
   "outputs": [
    {
     "name": "stdout",
     "output_type": "stream",
     "text": [
      "Index(['Country Name', 'Country Code', 'Indicator Name', 'Indicator Code',\n",
      "       '1960', '1961', '1962', '1963', '1964', '1965', '1966', '1967', '1968',\n",
      "       '1969', '1970', '1971', '1972', '1973', '1974', '1975', '1976', '1977',\n",
      "       '1978', '1979', '1980', '1981', '1982', '1983', '1984', '1985', '1986',\n",
      "       '1987', '1988', '1989', '1990', '1991', '1992', '1993', '1994', '1995',\n",
      "       '1996', '1997', '1998', '1999', '2000', '2001', '2002', '2003', '2004',\n",
      "       '2005', '2006', '2007', '2008', '2009', '2010', '2011', '2012', '2013',\n",
      "       '2014', '2015', '2016', '2017', '2018', '2019', '2020', '2021', '2022'],\n",
      "      dtype='object')\n",
      "Index(['Indicator', 'SeriesID', 'SeriesDescription', 'GeoAreaCode',\n",
      "       'GeoAreaName', 'Country Code', 'TimePeriod', 'Total', 'Time_Detail',\n",
      "       'Source', 'FootNote', 'Nature', 'Units', 'Reporting Type',\n",
      "       'SeriesCode'],\n",
      "      dtype='object')\n"
     ]
    }
   ],
   "source": [
    "# get a list of column headers for reference\n",
    "print(gdp_df.columns)\n",
    "\n",
    "print(tourism_gdp.columns)"
   ]
  },
  {
   "cell_type": "code",
   "execution_count": null,
   "metadata": {},
   "outputs": [],
   "source": [
    "# Remove Years from our dataset\n",
    "\n",
    "# columns that we need to keep\n",
    "cols_to_keep = ['Country Name', 'Country Code', 'Indicator Name', 'Indicator Code',\n",
    "        '2008', '2009', '2010', '2011', '2012', '2013',\n",
    "       '2014', '2015', '2016', '2017', '2018', '2019', '2020', '2021', '2022']\n",
    "\n",
    "# new dataframe\n",
    "gdp_keep_df = gdp_df[cols_to_keep]"
   ]
  },
  {
   "cell_type": "code",
   "execution_count": null,
   "metadata": {},
   "outputs": [],
   "source": [
    "# Transform the data from wide to long\n",
    "id_vars = ['Country Name', 'Country Code', 'Indicator Name', 'Indicator Code']\n",
    "\n",
    "cols_to_melt = ['2008', '2009', '2010', '2011', '2012', '2013',\n",
    "       '2014', '2015', '2016', '2017', '2018', '2019', '2020', '2021', '2022']\n",
    "\n",
    "\n",
    "gdp_long_df = pd.melt(gdp_keep_df, id_vars=id_vars, value_vars=cols_to_melt, var_name='Year',value_name='GDP')"
   ]
  },
  {
   "cell_type": "code",
   "execution_count": 21,
   "metadata": {},
   "outputs": [
    {
     "data": {
      "text/plain": [
       "Indicator             object\n",
       "SeriesID               int64\n",
       "SeriesDescription     object\n",
       "GeoAreaCode            int64\n",
       "GeoAreaName           object\n",
       "Country Code          object\n",
       "TimePeriod            object\n",
       "Total                float64\n",
       "Time_Detail            int64\n",
       "Source                object\n",
       "FootNote              object\n",
       "Nature                object\n",
       "Units                 object\n",
       "Reporting Type        object\n",
       "SeriesCode            object\n",
       "dtype: object"
      ]
     },
     "execution_count": 21,
     "metadata": {},
     "output_type": "execute_result"
    }
   ],
   "source": [
    "# set time period to string for merge\n",
    "tourism_gdp['TimePeriod'] = tourism_gdp['TimePeriod'].astype(str)\n",
    "tourism_gdp.dtypes\n"
   ]
  },
  {
   "cell_type": "code",
   "execution_count": null,
   "metadata": {},
   "outputs": [],
   "source": [
    "merge_df = pd.merge(tourism_gdp,gdp_long_df,how='inner', left_on=['Country Code','TimePeriod'],right_on=['Country Code','Year'])"
   ]
  },
  {
   "cell_type": "code",
   "execution_count": 23,
   "metadata": {},
   "outputs": [],
   "source": [
    "merge_df.to_csv('Cleaned Data/Merged GDP and Tourism data.csv')"
   ]
  }
 ],
 "metadata": {
  "kernelspec": {
   "display_name": "dev",
   "language": "python",
   "name": "python3"
  },
  "language_info": {
   "codemirror_mode": {
    "name": "ipython",
    "version": 3
   },
   "file_extension": ".py",
   "mimetype": "text/x-python",
   "name": "python",
   "nbconvert_exporter": "python",
   "pygments_lexer": "ipython3",
   "version": "3.10.13"
  }
 },
 "nbformat": 4,
 "nbformat_minor": 2
}
